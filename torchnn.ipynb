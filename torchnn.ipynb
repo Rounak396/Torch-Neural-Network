{
 "cells": [
  {
   "cell_type": "code",
   "execution_count": 5,
   "metadata": {},
   "outputs": [
    {
     "name": "stdout",
     "output_type": "stream",
     "text": [
      "Epoch:0 loss is 0.047114741057157516\n",
      "Epoch:1 loss is 0.0009032331872731447\n",
      "Epoch:2 loss is 0.0005201931344345212\n",
      "Epoch:3 loss is 0.0005837622447870672\n",
      "Epoch:4 loss is 0.0003116902953479439\n",
      "Epoch:5 loss is 0.0002749658888205886\n",
      "Epoch:6 loss is 5.398348730523139e-05\n",
      "Epoch:7 loss is 4.617874219547957e-05\n",
      "Epoch:8 loss is 8.395373151870444e-05\n",
      "Epoch:9 loss is 5.870441236766055e-05\n"
     ]
    }
   ],
   "source": [
    "# Import dependencies\n",
    "from torch import nn, save, load\n",
    "from torch.optim import Adam\n",
    "from torch.utils.data import DataLoader\n",
    "from torchvision import datasets\n",
    "from torchvision.transforms import ToTensor\n",
    "\n",
    "# Get data\n",
    "train = datasets.MNIST(root='data', train=True, download=True, transform=ToTensor())\n",
    "dataset = DataLoader(train, 32) # A batches of 32 images\n",
    "\n",
    "# Image Classifier Class\n",
    "class ImageClassifier(nn.Module):\n",
    "    def __init__(self):\n",
    "        super().__init__()\n",
    "        self.model = nn.Sequential(\n",
    "            nn.Conv2d(1, 32, (3, 3)),\n",
    "            nn.ReLU(),\n",
    "            nn.Conv2d(32, 64, (3, 3)),\n",
    "            nn.ReLU(),\n",
    "            nn.Conv2d(64, 64, (3, 3)),\n",
    "            nn.ReLU(),\n",
    "            nn.Flatten(),\n",
    "            nn.Linear(64*(28-6)*(28-6), 10)\n",
    "        )\n",
    "    def forward(self, x ):\n",
    "        return self.model(x)\n",
    "    \n",
    "# Instance of the neural network, loss, optimizer\n",
    "classifier = ImageClassifier()\n",
    "optimizer = Adam(classifier.parameters(), lr=1e-3)\n",
    "loss_function = nn.CrossEntropyLoss()\n",
    "\n",
    "# Training flow\n",
    "if __name__==\"__main__\":\n",
    "    for epoch in range(10): # Run for 10 epochs\n",
    "        for batch in dataset:\n",
    "             X,y = batch\n",
    "             X,y = X, y\n",
    "             y_hat = classifier(X)\n",
    "             loss = loss_function(y_hat, y)\n",
    "\n",
    "             # Applying backpropagation\n",
    "             optimizer.zero_grad()\n",
    "             loss.backward()\n",
    "             optimizer.step()\n",
    "\n",
    "        print(f\"Epoch:{epoch} loss is {loss.item()}\")\n",
    "\n",
    "    with open('model_state.pt', 'wb') as f:\n",
    "        save(classifier.state_dict(), f)\n",
    "        "
   ]
  }
 ],
 "metadata": {
  "kernelspec": {
   "display_name": "Python 3",
   "language": "python",
   "name": "python3"
  },
  "language_info": {
   "codemirror_mode": {
    "name": "ipython",
    "version": 3
   },
   "file_extension": ".py",
   "mimetype": "text/x-python",
   "name": "python",
   "nbconvert_exporter": "python",
   "pygments_lexer": "ipython3",
   "version": "3.11.6"
  }
 },
 "nbformat": 4,
 "nbformat_minor": 2
}
